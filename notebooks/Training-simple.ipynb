{
 "cells": [
  {
   "cell_type": "code",
   "execution_count": 29,
   "metadata": {},
   "outputs": [],
   "source": [
    "import numpy as np\n",
    "import tensorflow as tf\n",
    "import matplotlib.pyplot as plt\n",
    "from sklearn.metrics import mean_squared_error,mean_absolute_error\n",
    "from tensorflow.keras.utils import plot_model\n",
    "import matplotlib.pyplot as plt\n",
    "import json\n",
    "import shutil"
   ]
  },
  {
   "cell_type": "code",
   "execution_count": 30,
   "metadata": {},
   "outputs": [],
   "source": [
    "from tensorflow import constant_initializer\n",
    "\n",
    "def _exponential_initializer(min, max, dtype=None):\n",
    "    def in_func(shape, dtype=dtype):\n",
    "        initializer = tf.random_uniform_initializer(\n",
    "                        tf.math.log(1.0),\n",
    "                        tf.math.log(100.0)\n",
    "                        )\n",
    "        return tf.math.exp(initializer(shape))\n",
    "    return in_func\n",
    "\n",
    "class PhasedLSTM(tf.keras.layers.Layer):\n",
    "    def __init__(self,\n",
    "                 units,\n",
    "                 leak_rate=0.001,\n",
    "                 ratio_on=0.1,\n",
    "                 period_init_min=0.0,\n",
    "                 period_init_max=1000.0,\n",
    "                 rec_activation = tf.math.sigmoid,\n",
    "                 out_activation = tf.math.tanh,\n",
    "                 name='plstm',\n",
    "                 **kwargs):\n",
    "        super(PhasedLSTM, self).__init__(name=name)\n",
    "        \n",
    "        self.state_size = [units,units] #This change\n",
    "        self.output_size = units        #This change\n",
    "        \n",
    "        self.units = units\n",
    "        self._leak = leak_rate\n",
    "        self._ratio_on = ratio_on\n",
    "        self._rec_activation = rec_activation\n",
    "        self._out_activation = out_activation\n",
    "        self.period_init_min = period_init_min\n",
    "        self.period_init_max = period_init_max\n",
    "        \n",
    "        self.cell = tf.keras.layers.LSTMCell(units, **kwargs)\n",
    "\n",
    "    def _get_cycle_ratio(self, time, phase, period):\n",
    "        \"\"\"Compute the cycle ratio in the dtype of the time.\"\"\"\n",
    "        phase_casted = tf.cast(phase, dtype=time.dtype)\n",
    "        period_casted = tf.cast(period, dtype=time.dtype)\n",
    "        time = tf.reshape(time, [tf.shape(time)[0],1]) #This change\n",
    "        shifted_time = time - phase_casted\n",
    "        cycle_ratio = (shifted_time%period_casted) / period_casted\n",
    "        return tf.cast(cycle_ratio, dtype=tf.float32)        \n",
    "        \n",
    "    def build(self, input_shape):\n",
    "        self.period = self.add_weight(\n",
    "                        name=\"period\",\n",
    "                        shape=[self.units],\n",
    "                        initializer=_exponential_initializer(\n",
    "                                            self.period_init_min,\n",
    "                                            self.period_init_max),\n",
    "                        trainable=True)\n",
    "\n",
    "        self.phase = self.add_weight(name=\"phase\",\n",
    "                                     shape=[self.units],\n",
    "                                     initializer=tf.random_uniform_initializer(\n",
    "                                                         0.0,\n",
    "                                                         self.period),\n",
    "                                     trainable=True)\n",
    "        self.ratio_on = self.add_weight(name=\"ratio_on\",\n",
    "                                        shape=[self.units],\n",
    "                                        initializer=constant_initializer(self._ratio_on),\n",
    "                                        trainable=True)\n",
    "\n",
    "    def call(self, input, states):\n",
    "        inputs, times = input, input[:,0] #This change\n",
    "\n",
    "        # =================================\n",
    "        # CANDIDATE CELL AND HIDDEN STATE\n",
    "        # =================================\n",
    "        prev_hs, prev_cs = states\n",
    "        output, (hs, cs) = self.cell(inputs, states)\n",
    "\n",
    "        # =================================\n",
    "        # TIME GATE\n",
    "        # =================================\n",
    "        cycle_ratio = self._get_cycle_ratio(times, self.phase, self.period)\n",
    "\n",
    "        k_up = 2 * cycle_ratio / self.ratio_on\n",
    "        k_down = 2 - k_up\n",
    "        k_closed = self._leak * cycle_ratio\n",
    "\n",
    "        k = tf.where(cycle_ratio < self.ratio_on, k_down, k_closed)\n",
    "        k = tf.where(cycle_ratio < 0.5 * self.ratio_on, k_up, k)\n",
    "\n",
    "        # =================================\n",
    "        # UPDATE STATE USING TIME GATE VALUES\n",
    "        # =================================\n",
    "        new_h = k * hs + (1 - k) * prev_hs\n",
    "        new_c = k * cs + (1 - k) * prev_cs\n",
    "\n",
    "        return new_h, (new_h, new_c)\n",
    "\n",
    "    \n",
    "    \n",
    "class PhasedSNForecastModel(tf.keras.Model):\n",
    "    def __init__(self, units, out_steps):\n",
    "        super().__init__()\n",
    "        self.out_steps = out_steps\n",
    "        self.units = units\n",
    "        self.d1 = tf.keras.layers.Dropout(0.2)\n",
    "        self.concat = tf.keras.layers.Concatenate()\n",
    "        self.mask = tf.keras.layers.Masking(mask_value=-1.0)\n",
    "        self._init_dense()\n",
    "        self._init_recurrent()\n",
    "\n",
    "    def normalization(self,inputs):\n",
    "        max_all = tf.keras.backend.max(inputs)\n",
    "        max_val = tf.keras.backend.max(inputs,axis=1)\n",
    "        min_val = tf.keras.backend.min(tf.where(inputs > -1, inputs, max_all*tf.ones_like(inputs)),axis=1)\n",
    "\n",
    "        stacked_min_val = tf.stack([min_val for i in range(inputs.shape[1])])\n",
    "        stacked_min_val = tf.transpose(stacked_min_val, [1, 0, 2])\n",
    "        stacked_max_val = tf.stack([max_val for i in range(inputs.shape[1])])\n",
    "        stacked_max_val = tf.transpose(stacked_max_val, [1, 0, 2])\n",
    "\n",
    "        inputs = (inputs - stacked_min_val) / (stacked_max_val-stacked_min_val)\n",
    "        return min_val, max_val, inputs\n",
    "\n",
    "    def denormalize(self,inputs, min_val, max_val):\n",
    "        stacked_min_val = tf.stack([min_val for i in range(self.out_steps)])\n",
    "        stacked_min_val = tf.transpose(stacked_min_val, [1, 0, 2])\n",
    "        stacked_max_val = tf.stack([max_val for i in range(self.out_steps)])\n",
    "        stacked_max_val = tf.transpose(stacked_max_val, [1, 0, 2])\n",
    "\n",
    "        inputs = inputs * (stacked_max_val-stacked_min_val) + stacked_min_val\n",
    "        return inputs\n",
    "\n",
    "    def fowardpass(self, cells, states, denses, x, training=None):\n",
    "        for i,cell in enumerate(cells):\n",
    "            x, states[i] = cell(x, states=states[i],\n",
    "                      training=training)\n",
    "        for layer in denses:\n",
    "            x = layer(x)\n",
    "\n",
    "        return x, states\n",
    "\n",
    "    def _warmup(self,rnn, denses, inputs):\n",
    "        x, *state = rnn(inputs)\n",
    "        for layer in denses:\n",
    "            x = layer(x)\n",
    "        return x, state\n",
    "\n",
    "    def warmups(self,inputs):\n",
    "        prediction,states = self._warmup(self.rnn,self.denses,inputs)\n",
    "        return prediction,states\n",
    "\n",
    "    def _init_recurrent(self):\n",
    "        cell1 = PhasedLSTM(self.units, activation=\"sigmoid\", dropout=0.2)\n",
    "        self.cells = [cell1]\n",
    "        self.rnn = tf.keras.layers.RNN(self.cells, return_state=True)\n",
    "\n",
    "    def _init_dense(self):\n",
    "        dense1 = tf.keras.layers.Dense(self.units//2, activation=\"relu\")\n",
    "        dense2 = tf.keras.layers.Dense(self.units//4, activation=\"relu\")\n",
    "        dense3 = tf.keras.layers.Dense(self.units//8, activation=\"relu\")\n",
    "\n",
    "        out = tf.keras.layers.Dense(2, activation=\"linear\")\n",
    "        self.denses = [dense1,self.d1,dense2, self.d1,dense3, self.d1,out]\n",
    "\n",
    "    def call(self, inputs, training=None):\n",
    "        inputs = self.mask(inputs)\n",
    "        min_val, max_val, inputs =  self.normalization(inputs)\n",
    "        #Creating empty tensors for predictions\n",
    "        predictions = []\n",
    "        prediction, states = self.warmups(inputs)\n",
    "\n",
    "        #Saving first predictions\n",
    "        predictions.append(prediction)\n",
    "\n",
    "        for n in range(1, self.out_steps):\n",
    "            prediction, states = self.fowardpass(self.cells, states, self.denses, prediction, training)\n",
    "            predictions.append(prediction)\n",
    "\n",
    "        #Stacking predictions\n",
    "        predictions = tf.stack(predictions)\n",
    "        predictions = tf.transpose(predictions, [1, 0, 2])\n",
    "        predictions = self.denormalize(predictions, min_val, max_val)\n",
    "        return predictions\n",
    "    "
   ]
  },
  {
   "cell_type": "code",
   "execution_count": 31,
   "metadata": {},
   "outputs": [],
   "source": [
    "# import sys \n",
    "# sys.path.append(\"../code/\")\n",
    "# from model import SNForecastModel\n",
    "# from phased_model import PhasedSNForecastModel\n",
    "out_steps = 10"
   ]
  },
  {
   "cell_type": "code",
   "execution_count": 32,
   "metadata": {},
   "outputs": [],
   "source": [
    "def loss(y_true,y_pred,output_steps=10):\n",
    "    maes = []\n",
    "    for i in range(out_steps):\n",
    "        maes.append(tf.keras.losses.MAE(y_true[:,i,:],y_pred[:,i,:]))\n",
    "    maes = tf.stack(maes)\n",
    "    return tf.reduce_mean(maes,axis=1)"
   ]
  },
  {
   "cell_type": "code",
   "execution_count": 33,
   "metadata": {},
   "outputs": [],
   "source": [
    "model = PhasedSNForecastModel(units=128, out_steps=out_steps)\n",
    "losses = [tf.keras.losses.MeanAbsoluteError(reduction=tf.keras.losses.Reduction.NONE)]#\"mse\"\n",
    "model.compile(optimizer=\"adam\", loss=losses)"
   ]
  },
  {
   "cell_type": "code",
   "execution_count": 34,
   "metadata": {},
   "outputs": [],
   "source": [
    "data = np.load(\"../data/padded_x_train.npy\")\n",
    "\n",
    "\n",
    "len_data = data.shape[1]\n",
    "X_train, y_train = data[:,:-out_steps,:2],  data[:,-out_steps:,:2]"
   ]
  },
  {
   "cell_type": "code",
   "execution_count": 35,
   "metadata": {},
   "outputs": [],
   "source": [
    "data_val = np.load(\"../data/padded_x_val.npy\")\n",
    "len_data = data_val.shape[1]\n",
    "\n",
    "X_val, y_val = data_val[:,:-out_steps,:2],  data_val[:,-out_steps:,:2]"
   ]
  },
  {
   "cell_type": "code",
   "execution_count": 36,
   "metadata": {},
   "outputs": [],
   "source": [
    "inputs = X_train\n",
    "outputs = y_train\n",
    "inputs_val = X_val\n",
    "outputs_val = y_val"
   ]
  },
  {
   "cell_type": "code",
   "execution_count": 37,
   "metadata": {},
   "outputs": [],
   "source": [
    "#Early stops\n",
    "early_stop = tf.keras.callbacks.EarlyStopping( monitor='val_loss', min_delta=1e-8, patience=10)\n",
    "\n",
    "#Tensorboard\n",
    "tensorboard = tf.keras.callbacks.TensorBoard(\"../data/training/logs\")\n",
    "shutil.rmtree(\"../data/training/logs\",ignore_errors=True)\n",
    "#Checkpoint\n",
    "checkpoint = tf.keras.callbacks.ModelCheckpoint(\"../data/training/model_checkpoints/checkpoint\", monitor='val_loss', verbose=0, save_best_only=True)\n",
    "\n",
    "callbacks = [tensorboard,checkpoint, early_stop] # mag_early_stop,fid_early_stop,dt_early_stop,"
   ]
  },
  {
   "cell_type": "code",
   "execution_count": 38,
   "metadata": {
    "scrolled": false
   },
   "outputs": [
    {
     "name": "stdout",
     "output_type": "stream",
     "text": [
      "Epoch 1/1000\n",
      " 2/11 [====>.........................] - ETA: 5s - loss: 35.6141WARNING:tensorflow:Callbacks method `on_train_batch_end` is slow compared to the batch time (batch time: 0.2802s vs `on_train_batch_end` time: 0.9897s). Check your callbacks.\n",
      "11/11 [==============================] - 7s 596ms/step - loss: 31.8956 - val_loss: 28.1497\n",
      "Epoch 2/1000\n",
      "11/11 [==============================] - 5s 452ms/step - loss: 22.2116 - val_loss: 15.7153\n",
      "Epoch 3/1000\n",
      "11/11 [==============================] - 4s 357ms/step - loss: 17.8750 - val_loss: 12.1902\n",
      "Epoch 4/1000\n",
      "11/11 [==============================] - 4s 386ms/step - loss: 14.4459 - val_loss: 9.5927\n",
      "Epoch 5/1000\n",
      "11/11 [==============================] - 4s 330ms/step - loss: 13.4587 - val_loss: 9.0745\n",
      "Epoch 6/1000\n",
      "11/11 [==============================] - 5s 476ms/step - loss: 12.7288 - val_loss: 8.8902\n",
      "Epoch 7/1000\n",
      "11/11 [==============================] - 7s 632ms/step - loss: 12.0888 - val_loss: 7.8552\n",
      "Epoch 8/1000\n",
      "11/11 [==============================] - 6s 533ms/step - loss: 11.6196 - val_loss: 7.7849\n",
      "Epoch 9/1000\n",
      "11/11 [==============================] - 7s 619ms/step - loss: 11.3454 - val_loss: 8.5016\n",
      "Epoch 10/1000\n",
      "11/11 [==============================] - 5s 477ms/step - loss: 10.8911 - val_loss: 8.5861\n",
      "Epoch 11/1000\n",
      "11/11 [==============================] - 5s 434ms/step - loss: 10.6273 - val_loss: 7.8482\n",
      "Epoch 12/1000\n",
      "11/11 [==============================] - 5s 478ms/step - loss: 10.3778 - val_loss: 10.6641\n",
      "Epoch 13/1000\n",
      "11/11 [==============================] - 5s 492ms/step - loss: 10.0908 - val_loss: 8.3086\n",
      "Epoch 14/1000\n",
      "11/11 [==============================] - 5s 452ms/step - loss: 9.9140 - val_loss: 8.4098\n",
      "Epoch 15/1000\n",
      "11/11 [==============================] - 5s 409ms/step - loss: 9.6639 - val_loss: 8.1531\n",
      "Epoch 16/1000\n",
      "11/11 [==============================] - 5s 457ms/step - loss: 9.4028 - val_loss: 7.6148\n",
      "Epoch 17/1000\n",
      "11/11 [==============================] - 5s 425ms/step - loss: 9.3272 - val_loss: 7.4612\n",
      "Epoch 18/1000\n",
      "11/11 [==============================] - 5s 411ms/step - loss: 9.2014 - val_loss: 7.8699\n",
      "Epoch 19/1000\n",
      "11/11 [==============================] - 4s 406ms/step - loss: 8.8912 - val_loss: 7.5013\n",
      "Epoch 20/1000\n",
      "11/11 [==============================] - 5s 435ms/step - loss: 8.7371 - val_loss: 6.6801\n",
      "Epoch 21/1000\n",
      "11/11 [==============================] - 4s 372ms/step - loss: 8.5542 - val_loss: 6.0587\n",
      "Epoch 22/1000\n",
      "11/11 [==============================] - 4s 374ms/step - loss: 8.5326 - val_loss: 5.5463\n",
      "Epoch 23/1000\n",
      "11/11 [==============================] - 4s 377ms/step - loss: 8.3698 - val_loss: 7.0588\n",
      "Epoch 24/1000\n",
      "11/11 [==============================] - 4s 384ms/step - loss: 8.2207 - val_loss: 5.6726\n",
      "Epoch 25/1000\n",
      "11/11 [==============================] - 5s 437ms/step - loss: 8.2086 - val_loss: 5.8658\n",
      "Epoch 26/1000\n",
      "11/11 [==============================] - 4s 353ms/step - loss: 8.1011 - val_loss: 6.0707\n",
      "Epoch 27/1000\n",
      "11/11 [==============================] - 4s 394ms/step - loss: 7.9763 - val_loss: 6.0808\n",
      "Epoch 28/1000\n",
      "11/11 [==============================] - 5s 439ms/step - loss: 7.8984 - val_loss: 6.4649\n",
      "Epoch 29/1000\n",
      "11/11 [==============================] - 5s 437ms/step - loss: 7.7473 - val_loss: 6.0982\n",
      "Epoch 30/1000\n",
      "11/11 [==============================] - 5s 419ms/step - loss: 7.6954 - val_loss: 7.2479\n",
      "Epoch 31/1000\n",
      "11/11 [==============================] - 4s 359ms/step - loss: 7.6818 - val_loss: 7.6211\n",
      "Epoch 32/1000\n",
      "11/11 [==============================] - 4s 349ms/step - loss: 7.6496 - val_loss: 6.5045\n"
     ]
    }
   ],
   "source": [
    "MAX_EPOCHS=1000\n",
    "history = model.fit(inputs,outputs,\n",
    "                    batch_size=300, \n",
    "                    epochs=MAX_EPOCHS, \n",
    "                    validation_data=(inputs_val,outputs_val), \n",
    "                    callbacks=callbacks)"
   ]
  },
  {
   "cell_type": "code",
   "execution_count": 39,
   "metadata": {},
   "outputs": [],
   "source": [
    "history_dict = history.history\n",
    "json.dump(history_dict, open(\"../data/training/history_model.json\", 'w'))"
   ]
  },
  {
   "cell_type": "code",
   "execution_count": 40,
   "metadata": {},
   "outputs": [],
   "source": [
    "model.save_weights(\"../data/sn_model.h5\")"
   ]
  },
  {
   "cell_type": "code",
   "execution_count": 41,
   "metadata": {},
   "outputs": [],
   "source": [
    "data_test = np.load(\"../data/padded_x_val.npy\")"
   ]
  },
  {
   "cell_type": "code",
   "execution_count": 42,
   "metadata": {},
   "outputs": [],
   "source": [
    "X_test, y_test = data_test[:,:-out_steps,:2], data_test[:,-out_steps:, :2]"
   ]
  },
  {
   "cell_type": "code",
   "execution_count": 43,
   "metadata": {},
   "outputs": [],
   "source": [
    "y_hat = model.predict(X_test)"
   ]
  },
  {
   "cell_type": "code",
   "execution_count": 44,
   "metadata": {},
   "outputs": [],
   "source": [
    "maes = []\n",
    "for i in range(out_steps):\n",
    "    maes.append(mean_absolute_error(y_test[:,i,:], y_hat[:,i,:]))"
   ]
  },
  {
   "cell_type": "code",
   "execution_count": 45,
   "metadata": {},
   "outputs": [
    {
     "data": {
      "text/plain": [
       "Text(0.5, 1.0, 'MAE on Test')"
      ]
     },
     "execution_count": 45,
     "metadata": {},
     "output_type": "execute_result"
    },
    {
     "data": {
      "image/png": "[encoded data removed]",
      "text/plain": [
       "<Figure size 432x288 with 1 Axes>"
      ]
     },
     "metadata": {
      "needs_background": "light"
     },
     "output_type": "display_data"
    }
   ],
   "source": [
    "plt.plot(maes)\n",
    "plt.ylabel(\"MSE\")\n",
    "plt.xlabel(\"$t+h$\")\n",
    "plt.title(\"MAE on Test\")"
   ]
  },
  {
   "cell_type": "code",
   "execution_count": 46,
   "metadata": {},
   "outputs": [],
   "source": [
    "y_hat_train = model.predict(X_train)"
   ]
  },
  {
   "cell_type": "code",
   "execution_count": 47,
   "metadata": {},
   "outputs": [],
   "source": [
    "maes_train = []\n",
    "for i in range(out_steps):\n",
    "    maes_train.append(mean_absolute_error(y_train[:,i,:], y_hat_train[:,i,:]))"
   ]
  },
  {
   "cell_type": "code",
   "execution_count": 48,
   "metadata": {},
   "outputs": [
    {
     "data": {
      "text/plain": [
       "Text(0.5, 1.0, 'MAE on Train')"
      ]
     },
     "execution_count": 48,
     "metadata": {},
     "output_type": "execute_result"
    },
    {
     "data": {
      "image/png": "[encoded data removed]",
      "text/plain": [
       "<Figure size 432x288 with 1 Axes>"
      ]
     },
     "metadata": {
      "needs_background": "light"
     },
     "output_type": "display_data"
    }
   ],
   "source": [
    "plt.plot(maes_train)\n",
    "plt.ylabel(\"MAE\")\n",
    "plt.xlabel(\"$t+h$\")\n",
    "plt.title(\"MAE on Train\")"
   ]
  },
  {
   "cell_type": "code",
   "execution_count": null,
   "metadata": {},
   "outputs": [],
   "source": []
  }
 ],
 "metadata": {
  "kernelspec": {
   "display_name": "Python 3",
   "language": "python",
   "name": "python3"
  },
  "language_info": {
   "codemirror_mode": {
    "name": "ipython",
    "version": 3
   },
   "file_extension": ".py",
   "mimetype": "text/x-python",
   "name": "python",
   "nbconvert_exporter": "python",
   "pygments_lexer": "ipython3",
   "version": "3.8.3"
  }
 },
 "nbformat": 4,
 "nbformat_minor": 2
}
