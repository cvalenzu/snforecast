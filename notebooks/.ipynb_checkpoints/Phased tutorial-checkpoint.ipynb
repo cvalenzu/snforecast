{
 "cells": [
  {
   "cell_type": "code",
   "execution_count": 1,
   "metadata": {},
   "outputs": [],
   "source": [
    "import numpy as np\n",
    "import tensorflow as tf\n",
    "import matplotlib.pyplot as plt\n",
    "from sklearn.metrics import mean_squared_error,mean_absolute_error\n",
    "from tensorflow.keras.utils import plot_model\n",
    "import matplotlib.pyplot as plt\n",
    "import json\n",
    "import shutil"
   ]
  },
  {
   "cell_type": "code",
   "execution_count": 2,
   "metadata": {},
   "outputs": [],
   "source": [
    "from tensorflow import constant_initializer\n",
    "\n",
    "def _exponential_initializer(min, max, dtype=None):\n",
    "    def in_func(shape, dtype=dtype):\n",
    "        initializer = tf.random_uniform_initializer(\n",
    "                        tf.math.log(1.0),\n",
    "                        tf.math.log(100.0)\n",
    "                        )\n",
    "        return tf.math.exp(initializer(shape))\n",
    "    return in_func\n",
    "\n",
    "class PhasedLSTM(tf.keras.layers.Layer):\n",
    "    def __init__(self,\n",
    "                 units,\n",
    "                 leak_rate=0.001,\n",
    "                 ratio_on=0.1,\n",
    "                 period_init_min=0.0,\n",
    "                 period_init_max=1000.0,\n",
    "                 rec_activation = tf.math.sigmoid,\n",
    "                 out_activation = tf.math.tanh,\n",
    "                 name='plstm',\n",
    "                 **kwargs):\n",
    "        super(PhasedLSTM, self).__init__(name=name)\n",
    "        \n",
    "        self.state_size = [units,units] #This change\n",
    "        self.output_size = units        #This change\n",
    "        \n",
    "        self.units = units\n",
    "        self._leak = leak_rate\n",
    "        self._ratio_on = ratio_on\n",
    "        self._rec_activation = rec_activation\n",
    "        self._out_activation = out_activation\n",
    "        self.period_init_min = period_init_min\n",
    "        self.period_init_max = period_init_max\n",
    "        \n",
    "        self.cell = tf.keras.layers.LSTMCell(units, **kwargs)\n",
    "\n",
    "    def _get_cycle_ratio(self, time, phase, period):\n",
    "        \"\"\"Compute the cycle ratio in the dtype of the time.\"\"\"\n",
    "        phase_casted = tf.cast(phase, dtype=time.dtype)\n",
    "        period_casted = tf.cast(period, dtype=time.dtype)\n",
    "        time = tf.reshape(time, [tf.shape(time)[0],1]) #This change\n",
    "        shifted_time = time - phase_casted\n",
    "        cycle_ratio = (shifted_time%period_casted) / period_casted\n",
    "        return tf.cast(cycle_ratio, dtype=tf.float32)        \n",
    "        \n",
    "    def build(self, input_shape):\n",
    "        self.period = self.add_weight(\n",
    "                        name=\"period\",\n",
    "                        shape=[self.units],\n",
    "                        initializer=_exponential_initializer(\n",
    "                                            self.period_init_min,\n",
    "                                            self.period_init_max),\n",
    "                        trainable=True)\n",
    "\n",
    "        self.phase = self.add_weight(name=\"phase\",\n",
    "                                     shape=[self.units],\n",
    "                                     initializer=tf.random_uniform_initializer(\n",
    "                                                         0.0,\n",
    "                                                         self.period),\n",
    "                                     trainable=True)\n",
    "        self.ratio_on = self.add_weight(name=\"ratio_on\",\n",
    "                                        shape=[self.units],\n",
    "                                        initializer=constant_initializer(self._ratio_on),\n",
    "                                        trainable=True)\n",
    "\n",
    "    def call(self, input, states):\n",
    "        inputs, times = input, input[:,0] #This change\n",
    "\n",
    "        # =================================\n",
    "        # CANDIDATE CELL AND HIDDEN STATE\n",
    "        # =================================\n",
    "        prev_hs, prev_cs = states\n",
    "        output, (hs, cs) = self.cell(inputs, states)\n",
    "\n",
    "        # =================================\n",
    "        # TIME GATE\n",
    "        # =================================\n",
    "        cycle_ratio = self._get_cycle_ratio(times, self.phase, self.period)\n",
    "\n",
    "        k_up = 2 * cycle_ratio / self.ratio_on\n",
    "        k_down = 2 - k_up\n",
    "        k_closed = self._leak * cycle_ratio\n",
    "\n",
    "        k = tf.where(cycle_ratio < self.ratio_on, k_down, k_closed)\n",
    "        k = tf.where(cycle_ratio < 0.5 * self.ratio_on, k_up, k)\n",
    "\n",
    "        # =================================\n",
    "        # UPDATE STATE USING TIME GATE VALUES\n",
    "        # =================================\n",
    "        new_h = k * hs + (1 - k) * prev_hs\n",
    "        new_c = k * cs + (1 - k) * prev_cs\n",
    "\n",
    "        return new_h, (new_h, new_c)\n",
    "\n",
    "    \n",
    "    \n",
    "class PhasedSNForecastModel(tf.keras.Model):\n",
    "    def __init__(self, units, out_steps):\n",
    "        super().__init__()\n",
    "        self.out_steps = out_steps\n",
    "        self.units = units\n",
    "        self.d1 = tf.keras.layers.Dropout(0.2)\n",
    "        self.concat = tf.keras.layers.Concatenate()\n",
    "        self.mask = tf.keras.layers.Masking(mask_value=-1.0)\n",
    "        self._init_dense()\n",
    "        self._init_recurrent()\n",
    "\n",
    "    def normalization(self,inputs):\n",
    "        max_all = tf.keras.backend.max(inputs)\n",
    "        max_val = tf.keras.backend.max(inputs,axis=1)\n",
    "        min_val = tf.keras.backend.min(tf.where(inputs > -1, inputs, max_all*tf.ones_like(inputs)),axis=1)\n",
    "\n",
    "        stacked_min_val = tf.stack([min_val for i in range(inputs.shape[1])])\n",
    "        stacked_min_val = tf.transpose(stacked_min_val, [1, 0, 2])\n",
    "        stacked_max_val = tf.stack([max_val for i in range(inputs.shape[1])])\n",
    "        stacked_max_val = tf.transpose(stacked_max_val, [1, 0, 2])\n",
    "\n",
    "        inputs = (inputs - stacked_min_val) / (stacked_max_val-stacked_min_val)\n",
    "        return min_val, max_val, inputs\n",
    "\n",
    "    def denormalize(self,inputs, min_val, max_val):\n",
    "        stacked_min_val = tf.stack([min_val for i in range(self.out_steps)])\n",
    "        stacked_min_val = tf.transpose(stacked_min_val, [1, 0, 2])\n",
    "        stacked_max_val = tf.stack([max_val for i in range(self.out_steps)])\n",
    "        stacked_max_val = tf.transpose(stacked_max_val, [1, 0, 2])\n",
    "\n",
    "        inputs = inputs * (stacked_max_val-stacked_min_val) + stacked_min_val\n",
    "        return inputs\n",
    "\n",
    "    def fowardpass(self, cells, states, denses, x, training=None):\n",
    "        for i,cell in enumerate(cells):\n",
    "            x, states[i] = cell(x, states=states[i],\n",
    "                      training=training)\n",
    "        for layer in denses:\n",
    "            x = layer(x)\n",
    "\n",
    "        return x, states\n",
    "\n",
    "    def _warmup(self,rnn, denses, inputs):\n",
    "        x, *state = rnn(inputs)\n",
    "        for layer in denses:\n",
    "            x = layer(x)\n",
    "        return x, state\n",
    "\n",
    "    def warmups(self,inputs):\n",
    "        inputs = self.mask(inputs)\n",
    "        prediction,states = self._warmup(self.rnn,self.denses,inputs)\n",
    "        return prediction,states\n",
    "\n",
    "    def _init_recurrent(self):\n",
    "        cell1 = PhasedLSTM(self.units, activation=\"sigmoid\", dropout=0.2)\n",
    "        self.cells = [cell1]\n",
    "        self.rnn = tf.keras.layers.RNN(self.cells, return_state=True)\n",
    "\n",
    "    def _init_dense(self):\n",
    "        dense1 = tf.keras.layers.Dense(self.units//2, activation=\"sigmoid\")\n",
    "        dense2 = tf.keras.layers.Dense(self.units//4, activation=\"sigmoid\")\n",
    "        dense3 = tf.keras.layers.Dense(self.units//8, activation=\"sigmoid\")\n",
    "\n",
    "        out = tf.keras.layers.Dense(2, activation=\"linear\")\n",
    "        self.denses = [dense1,self.d1,dense2, self.d1,dense3, self.d1,out]\n",
    "\n",
    "    def call(self, inputs, training=None):\n",
    "        min_val, max_val, inputs =  self.normalization(inputs)\n",
    "        #Creating empty tensors for predictions\n",
    "        predictions = []\n",
    "        prediction, states = self.warmups(inputs)\n",
    "\n",
    "        #Saving first predictions\n",
    "        predictions.append(prediction)\n",
    "\n",
    "        for n in range(1, self.out_steps):\n",
    "            prediction, states = self.fowardpass(self.cells, states, self.denses, prediction, training)\n",
    "            predictions.append(prediction)\n",
    "\n",
    "        #Stacking predictions\n",
    "        predictions = tf.stack(predictions)\n",
    "        predictions = tf.transpose(predictions, [1, 0, 2])\n",
    "        predictions = self.denormalize(predictions, min_val, max_val)\n",
    "        return predictions\n",
    "    "
   ]
  },
  {
   "cell_type": "code",
   "execution_count": 3,
   "metadata": {},
   "outputs": [],
   "source": [
    "# import sys \n",
    "# sys.path.append(\"../code/\")\n",
    "# from model import SNForecastModel\n",
    "# from phased_model import PhasedSNForecastModel\n",
    "out_steps = 10"
   ]
  },
  {
   "cell_type": "code",
   "execution_count": 18,
   "metadata": {},
   "outputs": [],
   "source": [
    "model = PhasedSNForecastModel(units=200, out_steps=out_steps)\n",
    "losses = \"mae\"\n",
    "model.compile(optimizer=\"adam\", loss=losses)"
   ]
  },
  {
   "cell_type": "code",
   "execution_count": 19,
   "metadata": {},
   "outputs": [],
   "source": [
    "data = np.load(\"../data/padded_x_train.npy\")\n",
    "\n",
    "\n",
    "len_data = data.shape[1]\n",
    "X_train, y_train = data[:,:-out_steps,:2],  data[:,-out_steps:,:2]"
   ]
  },
  {
   "cell_type": "code",
   "execution_count": 20,
   "metadata": {},
   "outputs": [],
   "source": [
    "data_val = np.load(\"../data/padded_x_val.npy\")\n",
    "len_data = data_val.shape[1]\n",
    "\n",
    "X_val, y_val = data_val[:,:-out_steps,:2],  data_val[:,-out_steps:,:2]"
   ]
  },
  {
   "cell_type": "code",
   "execution_count": 21,
   "metadata": {},
   "outputs": [],
   "source": [
    "inputs = X_train\n",
    "outputs = y_train\n",
    "inputs_val = X_val\n",
    "outputs_val = y_val"
   ]
  },
  {
   "cell_type": "code",
   "execution_count": 22,
   "metadata": {},
   "outputs": [],
   "source": [
    "#Early stops\n",
    "early_stop = tf.keras.callbacks.EarlyStopping( monitor='val_loss', min_delta=1e-5, patience=5)\n",
    "\n",
    "#Tensorboard\n",
    "tensorboard = tf.keras.callbacks.TensorBoard(\"../data/training/logs\")\n",
    "shutil.rmtree(\"../data/training/logs\",ignore_errors=True)\n",
    "#Checkpoint\n",
    "checkpoint = tf.keras.callbacks.ModelCheckpoint(\"../data/training/model_checkpoints/checkpoint\", monitor='val_loss', verbose=0, save_best_only=True)\n",
    "\n",
    "callbacks = [tensorboard,checkpoint, early_stop] # mag_early_stop,fid_early_stop,dt_early_stop,"
   ]
  },
  {
   "cell_type": "code",
   "execution_count": 23,
   "metadata": {
    "scrolled": false
   },
   "outputs": [
    {
     "name": "stdout",
     "output_type": "stream",
     "text": [
      "Epoch 1/1000\n",
      "2/2 [==============================] - 3s 1s/step - loss: 30.2591 - val_loss: 37.7680\n",
      "Epoch 2/1000\n",
      "2/2 [==============================] - 1s 595ms/step - loss: 28.2445 - val_loss: 34.9263\n",
      "Epoch 3/1000\n",
      "2/2 [==============================] - 2s 837ms/step - loss: 26.1393 - val_loss: 32.1379\n",
      "Epoch 4/1000\n",
      "2/2 [==============================] - 2s 832ms/step - loss: 24.1547 - val_loss: 29.3556\n",
      "Epoch 5/1000\n",
      "2/2 [==============================] - 2s 814ms/step - loss: 22.0822 - val_loss: 26.6089\n",
      "Epoch 6/1000\n",
      "2/2 [==============================] - 2s 853ms/step - loss: 20.2619 - val_loss: 23.9044\n",
      "Epoch 7/1000\n",
      "2/2 [==============================] - 2s 804ms/step - loss: 18.2237 - val_loss: 21.2602\n",
      "Epoch 8/1000\n",
      "2/2 [==============================] - 2s 902ms/step - loss: 16.3807 - val_loss: 18.6393\n",
      "Epoch 9/1000\n",
      "2/2 [==============================] - 2s 842ms/step - loss: 14.6868 - val_loss: 16.1298\n",
      "Epoch 10/1000\n",
      "2/2 [==============================] - 2s 867ms/step - loss: 12.9949 - val_loss: 13.7286\n",
      "Epoch 11/1000\n",
      "2/2 [==============================] - 2s 842ms/step - loss: 11.6017 - val_loss: 11.4387\n",
      "Epoch 12/1000\n",
      "2/2 [==============================] - 2s 827ms/step - loss: 10.4730 - val_loss: 9.5122\n",
      "Epoch 13/1000\n",
      "2/2 [==============================] - 2s 827ms/step - loss: 9.6435 - val_loss: 8.9518\n",
      "Epoch 14/1000\n",
      "2/2 [==============================] - 2s 823ms/step - loss: 9.1898 - val_loss: 9.0716\n",
      "Epoch 15/1000\n",
      "2/2 [==============================] - 2s 833ms/step - loss: 8.9372 - val_loss: 9.5025\n",
      "Epoch 16/1000\n",
      "2/2 [==============================] - 2s 796ms/step - loss: 8.8358 - val_loss: 9.9651\n",
      "Epoch 17/1000\n",
      "2/2 [==============================] - 2s 804ms/step - loss: 8.8172 - val_loss: 10.3790\n",
      "Epoch 18/1000\n",
      "2/2 [==============================] - 2s 839ms/step - loss: 8.8436 - val_loss: 10.6988\n"
     ]
    }
   ],
   "source": [
    "MAX_EPOCHS=1000\n",
    "history = model.fit(inputs,outputs,\n",
    "                    batch_size=3000, \n",
    "                    epochs=MAX_EPOCHS, \n",
    "                    validation_data=(inputs_val,outputs_val), \n",
    "                    callbacks=callbacks)"
   ]
  },
  {
   "cell_type": "code",
   "execution_count": 24,
   "metadata": {},
   "outputs": [],
   "source": [
    "history_dict = history.history\n",
    "json.dump(history_dict, open(\"../data/training/history_model.json\", 'w'))"
   ]
  },
  {
   "cell_type": "code",
   "execution_count": 25,
   "metadata": {},
   "outputs": [],
   "source": [
    "model.save_weights(\"../data/sn_model.h5\")"
   ]
  },
  {
   "cell_type": "code",
   "execution_count": 26,
   "metadata": {},
   "outputs": [],
   "source": [
    "data_test = np.load(\"../data/padded_x_val.npy\")"
   ]
  },
  {
   "cell_type": "code",
   "execution_count": 27,
   "metadata": {},
   "outputs": [],
   "source": [
    "X_test, y_test = data_test[:,:-out_steps,:2], data_test[:,-out_steps:, :2]"
   ]
  },
  {
   "cell_type": "code",
   "execution_count": 28,
   "metadata": {},
   "outputs": [],
   "source": [
    "y_hat = model.predict(X_test)"
   ]
  },
  {
   "cell_type": "code",
   "execution_count": 29,
   "metadata": {},
   "outputs": [],
   "source": [
    "maes = []\n",
    "for i in range(out_steps):\n",
    "    maes.append(mean_absolute_error(y_test[:,i,:], y_hat[:,i,:]))"
   ]
  },
  {
   "cell_type": "code",
   "execution_count": 32,
   "metadata": {},
   "outputs": [
    {
     "data": {
      "text/plain": [
       "Text(0.5, 1.0, 'MSE on Test')"
      ]
     },
     "execution_count": 32,
     "metadata": {},
     "output_type": "execute_result"
    },
    {
     "data": {
      "image/png": "[encoded data removed]",
      "text/plain": [
       "<Figure size 432x288 with 1 Axes>"
      ]
     },
     "metadata": {
      "needs_background": "light"
     },
     "output_type": "display_data"
    }
   ],
   "source": [
    "plt.plot(maes)\n",
    "plt.ylabel(\"MSE\")\n",
    "plt.xlabel(\"$t+h$\")\n",
    "plt.title(\"MSE on Test\")"
   ]
  },
  {
   "cell_type": "code",
   "execution_count": null,
   "metadata": {},
   "outputs": [],
   "source": []
  },
  {
   "cell_type": "code",
   "execution_count": null,
   "metadata": {},
   "outputs": [],
   "source": []
  }
 ],
 "metadata": {
  "kernelspec": {
   "display_name": "Python 3",
   "language": "python",
   "name": "python3"
  },
  "language_info": {
   "codemirror_mode": {
    "name": "ipython",
    "version": 3
   },
   "file_extension": ".py",
   "mimetype": "text/x-python",
   "name": "python",
   "nbconvert_exporter": "python",
   "pygments_lexer": "ipython3",
   "version": "3.8.3"
  }
 },
 "nbformat": 4,
 "nbformat_minor": 2
}
