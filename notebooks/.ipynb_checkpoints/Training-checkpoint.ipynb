{
 "cells": [
  {
   "cell_type": "code",
   "execution_count": 1,
   "metadata": {},
   "outputs": [],
   "source": [
    "import numpy as np\n",
    "import tensorflow as tf\n",
    "import matplotlib.pyplot as plt\n",
    "from sklearn.metrics import mean_squared_error\n",
    "from tensorflow.keras.utils import plot_model\n",
    "import json"
   ]
  },
  {
   "cell_type": "code",
   "execution_count": 2,
   "metadata": {},
   "outputs": [],
   "source": [
    "import sys \n",
    "sys.path.append(\"../code/\")\n",
    "from model import SNForecastModel"
   ]
  },
  {
   "cell_type": "code",
   "execution_count": 3,
   "metadata": {},
   "outputs": [],
   "source": [
    "data = np.load(\"../data/padded_x_train.npy\")\n",
    "data[:,:,2] -= 1 \n",
    "num_features = data.shape[2]\n",
    "X_train, y_train = data[:,:-3,:],  data[:,-3:,:]"
   ]
  },
  {
   "cell_type": "code",
   "execution_count": 4,
   "metadata": {},
   "outputs": [],
   "source": [
    "data_val = np.load(\"../data/padded_x_val.npy\")\n",
    "data_val[:,:,2] -= 1 \n",
    "\n",
    "X_val, y_val = data_val[:,:-3,:],  data_val[:,-3:,:]"
   ]
  },
  {
   "cell_type": "code",
   "execution_count": 5,
   "metadata": {},
   "outputs": [],
   "source": [
    "model = SNForecastModel(units=32, out_steps=3)\n",
    "losses = {\n",
    "    \"out_dt\": \"mse\",\n",
    "    \"out_mag\": \"mse\"\n",
    "}\n",
    "model.compile(optimizer=\"rmsprop\", loss=losses)"
   ]
  },
  {
   "cell_type": "code",
   "execution_count": 6,
   "metadata": {},
   "outputs": [],
   "source": [
    "x_dt = np.expand_dims(X_train[:,:,0],axis=2)\n",
    "x_mag = np.expand_dims(X_train[:,:,1],axis=2)\n",
    "y_dt = np.expand_dims(y_train[:,:,0],axis=2)\n",
    "y_mag = np.expand_dims(y_train[:,:,1],axis=2)\n",
    "#-----------------------VALIDATION-------------------------------\n",
    "x_val_dt = np.expand_dims(X_val[:,:,0],axis=2)\n",
    "x_val_mag = np.expand_dims(X_val[:,:,1],axis=2)\n",
    "y_val_dt = np.expand_dims(y_val[:,:,0],axis=2)\n",
    "y_val_mag = np.expand_dims(y_val[:,:,1],axis=2)"
   ]
  },
  {
   "cell_type": "code",
   "execution_count": 7,
   "metadata": {},
   "outputs": [],
   "source": [
    "dt_min = np.min(x_dt)\n",
    "dt_max = np.max(x_dt)\n",
    "\n",
    "x_dt = (x_dt - dt_min)/(dt_max-dt_min)\n",
    "y_dt = (y_dt - dt_min)/(dt_max-dt_min)\n",
    "x_val_dt = (x_val_dt - dt_min)/(dt_max-dt_min)\n",
    "y_val_dt = (y_val_dt - dt_min)/(dt_max-dt_min)\n",
    "\n",
    "np.savez(\"../data/dt_norm\", {\"dt_min\": dt_min, \"dt_max\":dt_max})"
   ]
  },
  {
   "cell_type": "code",
   "execution_count": 8,
   "metadata": {},
   "outputs": [],
   "source": [
    "mag0_min = np.min(x_mag)\n",
    "mag0_max = np.max(x_mag)\n",
    "\n",
    "x_mag = (x_mag - mag0_min) / (mag0_max-mag0_min)\n",
    "y_mag = (y_mag - mag0_min) / (mag0_max-mag0_min)\n",
    "x_val_mag = (x_val_mag - mag0_min) / (mag0_max-mag0_min)\n",
    "y_val_mag = (y_val_mag - mag0_min) / (mag0_max-mag0_min)\n",
    "\n",
    "np.savez(\"../data/mag_norm\", {\"mag0\":{\"min\":mag0_min, \"max\":mag0_max}})"
   ]
  },
  {
   "cell_type": "code",
   "execution_count": 9,
   "metadata": {},
   "outputs": [],
   "source": [
    "ins = {\n",
    "    \"dt_in\":x_dt,\n",
    "    \"mag_in\": x_mag,\n",
    "}\n",
    "outs = {\"out_dt\":y_dt,\n",
    "        \"out_mag\":y_mag}\n",
    "#-----------------------VALIDATION-------------------------------\n",
    "ins_val = {\n",
    "    \"dt_in\":x_val_dt,\n",
    "    \"mag_in\": x_val_mag,\n",
    "}\n",
    "outs_val = {\"out_dt\":y_val_dt,\n",
    "            \"out_mag\": y_val_mag}"
   ]
  },
  {
   "cell_type": "code",
   "execution_count": 10,
   "metadata": {},
   "outputs": [],
   "source": [
    "#Early stops\n",
    "early_stop = tf.keras.callbacks.EarlyStopping( monitor='val_loss', min_delta=1e-15, patience=5)\n",
    "\n",
    "#Tensorboard\n",
    "tensorboard = tf.keras.callbacks.TensorBoard(\"../data/training/logs\")\n",
    "\n",
    "#Checkpoint\n",
    "checkpoint = tf.keras.callbacks.ModelCheckpoint(\"../data/training/model_checkpoints/checkpoint\", monitor='val_loss', verbose=0, save_best_only=True)\n",
    "\n",
    "callbacks = [tensorboard,checkpoint, early_stop] # mag_early_stop,fid_early_stop,dt_early_stop,"
   ]
  },
  {
   "cell_type": "code",
   "execution_count": 11,
   "metadata": {},
   "outputs": [
    {
     "name": "stdout",
     "output_type": "stream",
     "text": [
      "Epoch 1/100\n",
      "19/19 [==============================] - 13s 703ms/step - loss: 0.7064 - out_dt_loss: 0.0366 - out_mag_loss: 0.6698 - val_loss: 0.6822 - val_out_dt_loss: 0.0534 - val_out_mag_loss: 0.6289\n",
      "Epoch 2/100\n",
      "19/19 [==============================] - 15s 815ms/step - loss: 0.6806 - out_dt_loss: 0.0578 - out_mag_loss: 0.6228 - val_loss: 0.6769 - val_out_dt_loss: 0.0553 - val_out_mag_loss: 0.6215\n",
      "Epoch 3/100\n",
      "19/19 [==============================] - 13s 698ms/step - loss: 0.6773 - out_dt_loss: 0.0627 - out_mag_loss: 0.6145 - val_loss: 0.6754 - val_out_dt_loss: 0.0687 - val_out_mag_loss: 0.6067\n",
      "Epoch 4/100\n",
      "19/19 [==============================] - 13s 669ms/step - loss: 0.6768 - out_dt_loss: 0.0651 - out_mag_loss: 0.6117 - val_loss: 0.6756 - val_out_dt_loss: 0.0590 - val_out_mag_loss: 0.6166\n",
      "Epoch 5/100\n",
      "19/19 [==============================] - 12s 657ms/step - loss: 0.6767 - out_dt_loss: 0.0651 - out_mag_loss: 0.6115 - val_loss: 0.6752 - val_out_dt_loss: 0.0683 - val_out_mag_loss: 0.6069\n",
      "Epoch 6/100\n",
      "19/19 [==============================] - 13s 679ms/step - loss: 0.6766 - out_dt_loss: 0.0654 - out_mag_loss: 0.6113 - val_loss: 0.6755 - val_out_dt_loss: 0.0597 - val_out_mag_loss: 0.6158\n",
      "Epoch 7/100\n",
      "19/19 [==============================] - 16s 858ms/step - loss: 0.6766 - out_dt_loss: 0.0652 - out_mag_loss: 0.6115 - val_loss: 0.6753 - val_out_dt_loss: 0.0703 - val_out_mag_loss: 0.6050\n",
      "Epoch 8/100\n",
      "19/19 [==============================] - 15s 783ms/step - loss: 0.6766 - out_dt_loss: 0.0654 - out_mag_loss: 0.6112 - val_loss: 0.6755 - val_out_dt_loss: 0.0600 - val_out_mag_loss: 0.6155\n",
      "Epoch 9/100\n",
      "19/19 [==============================] - 14s 728ms/step - loss: 0.6766 - out_dt_loss: 0.0652 - out_mag_loss: 0.6114 - val_loss: 0.6752 - val_out_dt_loss: 0.0687 - val_out_mag_loss: 0.6065\n",
      "Epoch 10/100\n",
      "19/19 [==============================] - 13s 701ms/step - loss: 0.6766 - out_dt_loss: 0.0654 - out_mag_loss: 0.6112 - val_loss: 0.6754 - val_out_dt_loss: 0.0603 - val_out_mag_loss: 0.6151\n",
      "Epoch 11/100\n",
      "19/19 [==============================] - 14s 711ms/step - loss: 0.6766 - out_dt_loss: 0.0652 - out_mag_loss: 0.6114 - val_loss: 0.6752 - val_out_dt_loss: 0.0691 - val_out_mag_loss: 0.6061\n",
      "Epoch 12/100\n",
      "19/19 [==============================] - 14s 741ms/step - loss: 0.6766 - out_dt_loss: 0.0654 - out_mag_loss: 0.6112 - val_loss: 0.6753 - val_out_dt_loss: 0.0612 - val_out_mag_loss: 0.6141\n",
      "Epoch 13/100\n",
      "19/19 [==============================] - 16s 833ms/step - loss: 0.6766 - out_dt_loss: 0.0652 - out_mag_loss: 0.6113 - val_loss: 0.6753 - val_out_dt_loss: 0.0698 - val_out_mag_loss: 0.6055\n",
      "Epoch 14/100\n",
      "19/19 [==============================] - 15s 775ms/step - loss: 0.6766 - out_dt_loss: 0.0654 - out_mag_loss: 0.6112 - val_loss: 0.6752 - val_out_dt_loss: 0.0616 - val_out_mag_loss: 0.6137\n"
     ]
    }
   ],
   "source": [
    "MAX_EPOCHS=100\n",
    "history = model.fit(ins,outs,\n",
    "                    batch_size=1000, \n",
    "                    epochs=MAX_EPOCHS, \n",
    "                    validation_data=(ins_val,outs_val), \n",
    "                    callbacks=callbacks)"
   ]
  },
  {
   "cell_type": "code",
   "execution_count": 12,
   "metadata": {},
   "outputs": [],
   "source": [
    "history_dict = history.history\n",
    "json.dump(history_dict, open(\"../data/training/history_model.json\", 'w'))"
   ]
  },
  {
   "cell_type": "code",
   "execution_count": 13,
   "metadata": {},
   "outputs": [],
   "source": [
    "#model.save(\"../data/models/sn_model.h55\")"
   ]
  },
  {
   "cell_type": "code",
   "execution_count": 14,
   "metadata": {},
   "outputs": [],
   "source": [
    "data_test = np.load(\"../data/padded_x_val.npy\")\n",
    "data_test[:,:,2] -= 1"
   ]
  },
  {
   "cell_type": "code",
   "execution_count": 15,
   "metadata": {},
   "outputs": [],
   "source": [
    "sample = data_test[0]"
   ]
  },
  {
   "cell_type": "code",
   "execution_count": 16,
   "metadata": {},
   "outputs": [],
   "source": [
    "sample = sample[~np.any(sample==-1,axis=1)]"
   ]
  },
  {
   "cell_type": "code",
   "execution_count": 17,
   "metadata": {},
   "outputs": [],
   "source": [
    "x_sample = np.expand_dims(sample[:-3,:],axis=0)\n",
    "y_sample = np.expand_dims(sample[-3:,:],axis=0)"
   ]
  },
  {
   "cell_type": "code",
   "execution_count": 18,
   "metadata": {},
   "outputs": [],
   "source": [
    "dt_x_sample = np.expand_dims((x_sample[:,:,0] - dt_min) / (dt_max - dt_min),axis=2)\n",
    "dt_y_sample = np.expand_dims((y_sample[:,:,0] - dt_min) / (dt_max - dt_min),axis=2)\n",
    "\n",
    "mag0_x_sample = (x_sample[:,:,1] - mag0_min) / (mag0_max-mag0_min)\n",
    "mag0_y_sample = (y_sample[:,:,1] - mag0_min) / (mag0_max-mag0_min)\n",
    "\n",
    "mag_x_sample = np.expand_dims(mag0_x_sample,axis=2)\n"
   ]
  },
  {
   "cell_type": "code",
   "execution_count": 19,
   "metadata": {},
   "outputs": [],
   "source": [
    "ins_sample = {\n",
    "    \"dt_in\":dt_x_sample,\n",
    "    \"mag_in\": mag_x_sample,\n",
    "}\n",
    "y_hat = model.predict(ins_sample)"
   ]
  },
  {
   "cell_type": "code",
   "execution_count": 20,
   "metadata": {},
   "outputs": [
    {
     "data": {
      "text/plain": [
       "{'out_dt': array([[[0.3890833 ],\n",
       "         [0.01711238],\n",
       "         [0.01239742]]], dtype=float32),\n",
       " 'out_mag': array([[[0.3890833],\n",
       "         [0.       ],\n",
       "         [0.       ]]], dtype=float32)}"
      ]
     },
     "execution_count": 20,
     "metadata": {},
     "output_type": "execute_result"
    }
   ],
   "source": [
    "y_hat"
   ]
  },
  {
   "cell_type": "code",
   "execution_count": 21,
   "metadata": {},
   "outputs": [
    {
     "ename": "KeyError",
     "evalue": "'out'",
     "output_type": "error",
     "traceback": [
      "\u001b[0;31m---------------------------------------------------------------------------\u001b[0m",
      "\u001b[0;31mKeyError\u001b[0m                                  Traceback (most recent call last)",
      "\u001b[0;32m<ipython-input-21-bffbe250fb73>\u001b[0m in \u001b[0;36m<module>\u001b[0;34m\u001b[0m\n\u001b[0;32m----> 1\u001b[0;31m \u001b[0mmag_hat\u001b[0m \u001b[0;34m=\u001b[0m \u001b[0my_hat\u001b[0m\u001b[0;34m[\u001b[0m\u001b[0;34m\"out\"\u001b[0m\u001b[0;34m]\u001b[0m\u001b[0;34m[\u001b[0m\u001b[0;36m0\u001b[0m\u001b[0;34m,\u001b[0m\u001b[0;34m:\u001b[0m\u001b[0;34m,\u001b[0m\u001b[0;36m1\u001b[0m\u001b[0;34m]\u001b[0m\u001b[0;34m\u001b[0m\u001b[0;34m\u001b[0m\u001b[0m\n\u001b[0m\u001b[1;32m      2\u001b[0m \u001b[0mmag_hat\u001b[0m \u001b[0;34m=\u001b[0m \u001b[0mmag_hat\u001b[0m \u001b[0;34m*\u001b[0m \u001b[0;34m(\u001b[0m\u001b[0mmag0_max\u001b[0m\u001b[0;34m-\u001b[0m\u001b[0mmag0_min\u001b[0m\u001b[0;34m)\u001b[0m \u001b[0;34m+\u001b[0m \u001b[0mmag0_min\u001b[0m\u001b[0;34m\u001b[0m\u001b[0;34m\u001b[0m\u001b[0m\n",
      "\u001b[0;31mKeyError\u001b[0m: 'out'"
     ]
    }
   ],
   "source": [
    "mag_hat = y_hat[\"out\"][0,:,1]\n",
    "mag_hat = mag_hat * (mag0_max-mag0_min) + mag0_min"
   ]
  },
  {
   "cell_type": "code",
   "execution_count": null,
   "metadata": {},
   "outputs": [],
   "source": [
    "dts = np.hstack([dt_x_sample[0,:,0],dt_y_sample[0,:,0]])\n",
    "times = np.cumsum(dts) * (dt_max-dt_min) + dt_min\n",
    "mag = np.hstack([mag_x_sample[0,:,0],mag0_y_sample[0,:]])\n",
    "mag = mag * (mag0_max-mag0_min) + mag0_min\n",
    "\n",
    "y_dts = np.hstack([dt_x_sample[0,:,0],y_hat[\"out\"][0,:,0]])\n",
    "y_times =  np.cumsum(dts) * (dt_max-dt_min) + dt_min\n",
    "y_times = y_times[-3:]\n",
    "y_mag = mag_hat * (mag0_max-mag0_min) + mag0_min\n",
    "\n",
    "plt.scatter(times, mag)\n",
    "\n",
    "plt.scatter(y_times, y_mag, label=\"Pred_1\")\n",
    "\n"
   ]
  },
  {
   "cell_type": "code",
   "execution_count": null,
   "metadata": {},
   "outputs": [],
   "source": []
  },
  {
   "cell_type": "code",
   "execution_count": null,
   "metadata": {},
   "outputs": [],
   "source": []
  },
  {
   "cell_type": "code",
   "execution_count": null,
   "metadata": {},
   "outputs": [],
   "source": []
  }
 ],
 "metadata": {
  "kernelspec": {
   "display_name": "Python 3",
   "language": "python",
   "name": "python3"
  },
  "language_info": {
   "codemirror_mode": {
    "name": "ipython",
    "version": 3
   },
   "file_extension": ".py",
   "mimetype": "text/x-python",
   "name": "python",
   "nbconvert_exporter": "python",
   "pygments_lexer": "ipython3",
   "version": "3.8.3"
  }
 },
 "nbformat": 4,
 "nbformat_minor": 2
}
