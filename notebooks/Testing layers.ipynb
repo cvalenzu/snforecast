{
 "cells": [
  {
   "cell_type": "code",
   "execution_count": 1,
   "metadata": {},
   "outputs": [],
   "source": [
    "import tensorflow as tf\n",
    "import numpy as np"
   ]
  },
  {
   "cell_type": "code",
   "execution_count": 2,
   "metadata": {},
   "outputs": [],
   "source": [
    "d1 = 100\n",
    "d2 =  20\n",
    "d3 =   4\n",
    "total = d1*d2*d3\n",
    "X = np.random.rand(total)\n",
    "X = X.reshape((d1,d2,d3)).astype(np.float32)"
   ]
  },
  {
   "cell_type": "code",
   "execution_count": 3,
   "metadata": {},
   "outputs": [],
   "source": [
    "out_steps = 3\n",
    "units = 32\n",
    "num_features = d3"
   ]
  },
  {
   "cell_type": "code",
   "execution_count": 4,
   "metadata": {},
   "outputs": [],
   "source": [
    "cell1 = tf.keras.layers.LSTMCell(units)\n",
    "cell2 = tf.keras.layers.LSTMCell(units//2)\n",
    "cell3 = tf.keras.layers.LSTMCell(units//4)\n",
    "recurrent_cells = [cell1,cell2,cell3]\n",
    "\n",
    "dense = tf.keras.layers.Dense(num_features)"
   ]
  },
  {
   "cell_type": "code",
   "execution_count": 5,
   "metadata": {},
   "outputs": [],
   "source": [
    "# lstm_rnn = tf.keras.layers.RNN(cell1, return_state=True)\n",
    "lstm_rnn = tf.keras.layers.RNN(recurrent_cells, return_state=True)"
   ]
  },
  {
   "cell_type": "code",
   "execution_count": 6,
   "metadata": {},
   "outputs": [],
   "source": [
    "predictions = []\n",
    "x, *states =  lstm_rnn(X)\n",
    "prediction = dense(x)"
   ]
  },
  {
   "cell_type": "code",
   "execution_count": 7,
   "metadata": {},
   "outputs": [],
   "source": [
    "predictions.append(prediction)"
   ]
  },
  {
   "cell_type": "code",
   "execution_count": 14,
   "metadata": {},
   "outputs": [],
   "source": [
    "# x1, states = cell1(prediction,states=states[0])"
   ]
  },
  {
   "cell_type": "code",
   "execution_count": 9,
   "metadata": {},
   "outputs": [],
   "source": [
    "x = prediction\n",
    "for n in range(1, out_steps):\n",
    "    for i,cell in enumerate(recurrent_cells):\n",
    "        x, states[i] = cell(x, states=states[i])\n",
    "    x = dense(x)"
   ]
  },
  {
   "cell_type": "code",
   "execution_count": null,
   "metadata": {},
   "outputs": [],
   "source": []
  }
 ],
 "metadata": {
  "kernelspec": {
   "display_name": "Python 3",
   "language": "python",
   "name": "python3"
  },
  "language_info": {
   "codemirror_mode": {
    "name": "ipython",
    "version": 3
   },
   "file_extension": ".py",
   "mimetype": "text/x-python",
   "name": "python",
   "nbconvert_exporter": "python",
   "pygments_lexer": "ipython3",
   "version": "3.8.3"
  }
 },
 "nbformat": 4,
 "nbformat_minor": 4
}
