{
 "cells": [
  {
   "cell_type": "code",
   "execution_count": 167,
   "metadata": {},
   "outputs": [],
   "source": [
    "import pandas as pd\n",
    "import numpy as np\n",
    "import tensorflow as tf\n",
    "from sklearn.model_selection import train_test_split\n",
    "import progressbar"
   ]
  },
  {
   "cell_type": "code",
   "execution_count": 43,
   "metadata": {},
   "outputs": [],
   "source": [
    "df = pd.read_pickle(\"../data/sne_light_curves.pkl\")\n",
    "features = [\"oid\",\"mjd\", \"magap\", \"sigmagap\", \"fid\"]"
   ]
  },
  {
   "cell_type": "code",
   "execution_count": 44,
   "metadata": {},
   "outputs": [],
   "source": [
    "lc = df[df.oid == 'ZTF18acqyvag'][features]"
   ]
  },
  {
   "cell_type": "code",
   "execution_count": 45,
   "metadata": {},
   "outputs": [],
   "source": [
    "lc.sort_values('mjd', inplace=True)"
   ]
  },
  {
   "cell_type": "code",
   "execution_count": 46,
   "metadata": {},
   "outputs": [],
   "source": [
    "dt = np.diff(lc.mjd)"
   ]
  },
  {
   "cell_type": "code",
   "execution_count": 47,
   "metadata": {},
   "outputs": [],
   "source": [
    "dt = np.insert(dt, 0, 0, axis=0)"
   ]
  },
  {
   "cell_type": "code",
   "execution_count": 70,
   "metadata": {},
   "outputs": [],
   "source": [
    "lcs = []\n",
    "for oid in df.oid.unique():\n",
    "    lc = df[df.oid == oid][features]\n",
    "    if len(lc) > 5:\n",
    "        \n",
    "        lc.sort_values('mjd', inplace=True)\n",
    "        dt = np.diff(lc.mjd)\n",
    "        dt = np.insert(dt, 0, 0, axis=0)\n",
    "        lc.drop(\"mjd\",axis=1, inplace=True)\n",
    "        lc[\"dt\"] = dt\n",
    "    \n",
    "        lcs.append(lc)"
   ]
  },
  {
   "cell_type": "code",
   "execution_count": 205,
   "metadata": {},
   "outputs": [],
   "source": [
    "X_train, X_test = train_test_split(lcs, test_size=0.2,random_state=42)"
   ]
  },
  {
   "cell_type": "code",
   "execution_count": 206,
   "metadata": {},
   "outputs": [],
   "source": [
    "X_train, X_val = train_test_split(X_train, test_size=0.125,random_state=42)"
   ]
  },
  {
   "cell_type": "code",
   "execution_count": 223,
   "metadata": {},
   "outputs": [],
   "source": [
    "def prepare_lc(lc):\n",
    "    dropped_lc = lc.drop(\"oid\",axis=1)\n",
    "    numpy_lc = dropped_lc[[\"dt\", \"magap\", \"sigmagap\", \"fid\"]].to_numpy()\n",
    "    return [numpy_lc]"
   ]
  },
  {
   "cell_type": "code",
   "execution_count": 208,
   "metadata": {},
   "outputs": [],
   "source": [
    "def slice_lc(lc):\n",
    "    sliced_lcs = []\n",
    "    dropped_lc = lc.drop(\"oid\",axis=1)\n",
    "    numpy_lc = dropped_lc[[\"dt\", \"magap\", \"sigmagap\", \"fid\"]].to_numpy()\n",
    "    for i in range(4,len(numpy_lc)+1):\n",
    "        sliced_lcs.append(numpy_lc[:i])\n",
    "    return sliced_lcs"
   ]
  },
  {
   "cell_type": "code",
   "execution_count": 209,
   "metadata": {},
   "outputs": [
    {
     "name": "stderr",
     "output_type": "stream",
     "text": [
      " 97% (1518 of 1557) |################### | Elapsed Time: 0:00:02 ETA:   0:00:00"
     ]
    }
   ],
   "source": [
    "sliced_lcs = []\n",
    "bar = progressbar.ProgressBar(max_value=len(X_train))\n",
    "bar.start()\n",
    "for i,lc in enumerate(X_train):\n",
    "    sliced_lcs.extend(slice_lc(lc))\n",
    "    bar.update(i+1)"
   ]
  },
  {
   "cell_type": "code",
   "execution_count": 224,
   "metadata": {},
   "outputs": [
    {
     "name": "stderr",
     "output_type": "stream",
     "text": [
      " 98% (441 of 446) |##################### | Elapsed Time: 0:00:00 ETA:   0:00:00"
     ]
    }
   ],
   "source": [
    "x_test_prepared = []\n",
    "bar = progressbar.ProgressBar(max_value=len(X_test))\n",
    "bar.start()\n",
    "for i,lc in enumerate(X_test):\n",
    "    x_test_prepared.extend(prepare_lc(lc))\n",
    "    bar.update(i+1)"
   ]
  },
  {
   "cell_type": "code",
   "execution_count": 225,
   "metadata": {},
   "outputs": [
    {
     "name": "stderr",
     "output_type": "stream",
     "text": [
      " 97% (218 of 223) |##################### | Elapsed Time: 0:00:00 ETA:   0:00:00"
     ]
    }
   ],
   "source": [
    "x_val_prepared = []\n",
    "bar = progressbar.ProgressBar(max_value=len(X_val))\n",
    "bar.start()\n",
    "for i,lc in enumerate(X_val):\n",
    "    x_val_prepared.extend(prepare_lc(lc))\n",
    "    bar.update(i+1)"
   ]
  },
  {
   "cell_type": "code",
   "execution_count": 234,
   "metadata": {},
   "outputs": [],
   "source": [
    "padded_lcs = tf.keras.preprocessing.sequence.pad_sequences(sliced_lcs,dtype=\"float32\", value=-1)"
   ]
  },
  {
   "cell_type": "code",
   "execution_count": 235,
   "metadata": {},
   "outputs": [],
   "source": [
    "padded_x_test = tf.keras.preprocessing.sequence.pad_sequences(x_test_prepared,dtype=\"float32\", value=-1)\n",
    "padded_x_val = tf.keras.preprocessing.sequence.pad_sequences(x_val_prepared,dtype=\"float32\", value=-1)"
   ]
  },
  {
   "cell_type": "code",
   "execution_count": 236,
   "metadata": {},
   "outputs": [],
   "source": [
    "np.save(\"../data/padded_x_train\",padded_lcs)"
   ]
  },
  {
   "cell_type": "code",
   "execution_count": 237,
   "metadata": {},
   "outputs": [],
   "source": [
    "np.save(\"../data/padded_x_test\",padded_x_test)\n",
    "np.save(\"../data/padded_x_val\",padded_x_val)"
   ]
  },
  {
   "cell_type": "code",
   "execution_count": null,
   "metadata": {},
   "outputs": [],
   "source": []
  }
 ],
 "metadata": {
  "kernelspec": {
   "display_name": "Python 3",
   "language": "python",
   "name": "python3"
  },
  "language_info": {
   "codemirror_mode": {
    "name": "ipython",
    "version": 3
   },
   "file_extension": ".py",
   "mimetype": "text/x-python",
   "name": "python",
   "nbconvert_exporter": "python",
   "pygments_lexer": "ipython3",
   "version": "3.7.3"
  }
 },
 "nbformat": 4,
 "nbformat_minor": 2
}
