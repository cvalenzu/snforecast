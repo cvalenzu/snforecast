{
 "cells": [
  {
   "cell_type": "code",
   "execution_count": 11,
   "metadata": {},
   "outputs": [],
   "source": [
    "import requests\n",
    "from requests.compat import urljoin\n",
    "import pandas as pd\n",
    "import io"
   ]
  },
  {
   "cell_type": "code",
   "execution_count": 2,
   "metadata": {},
   "outputs": [],
   "source": [
    "base = \"https://wis-tns.weizmann.ac.il/search\""
   ]
  },
  {
   "cell_type": "code",
   "execution_count": 3,
   "metadata": {},
   "outputs": [],
   "source": []
  },
  {
   "cell_type": "code",
   "execution_count": 8,
   "metadata": {},
   "outputs": [
    {
     "name": "stdout",
     "output_type": "stream",
     "text": [
      "1/4\n",
      "2/4\n",
      "3/4\n",
      "4/4\n"
     ]
    }
   ],
   "source": [
    "responses = []\n",
    "for i in range(1,5):\n",
    "    print(f\"{i}/4\")\n",
    "    params = {\n",
    "        \"discovered_period_value\":15,\n",
    "        \"discovered_period_units\":\"months\",\n",
    "        \"classified_sne\":1,\n",
    "        \"groupid[]\":48,\n",
    "        \"num_page\":500,\n",
    "        \"page\": i,\n",
    "        \"format\": \"csv\"\n",
    "    }\n",
    "    responses.append(requests.get(base,params=params))"
   ]
  },
  {
   "cell_type": "code",
   "execution_count": 13,
   "metadata": {},
   "outputs": [],
   "source": [
    "dfs = []\n",
    "for response in responses:\n",
    "    f = io.BytesIO(response.content)\n",
    "    df = pd.read_csv(f)\n",
    "    dfs.append(df)"
   ]
  },
  {
   "cell_type": "code",
   "execution_count": 15,
   "metadata": {},
   "outputs": [],
   "source": [
    "df_all = pd.concat(dfs)"
   ]
  },
  {
   "cell_type": "code",
   "execution_count": 19,
   "metadata": {},
   "outputs": [],
   "source": [
    "ids = df_all[[\"Disc. Internal Name\", \"Obj. Type\"]]"
   ]
  },
  {
   "cell_type": "code",
   "execution_count": 21,
   "metadata": {},
   "outputs": [],
   "source": [
    "ids.columns = [\"oid\", \"type\"]"
   ]
  },
  {
   "cell_type": "code",
   "execution_count": 24,
   "metadata": {},
   "outputs": [],
   "source": [
    "ids.to_csv(\"../data/TNS_oids.csv\",index=False)"
   ]
  },
  {
   "cell_type": "code",
   "execution_count": null,
   "metadata": {},
   "outputs": [],
   "source": []
  }
 ],
 "metadata": {
  "kernelspec": {
   "display_name": "Python 3",
   "language": "python",
   "name": "python3"
  },
  "language_info": {
   "codemirror_mode": {
    "name": "ipython",
    "version": 3
   },
   "file_extension": ".py",
   "mimetype": "text/x-python",
   "name": "python",
   "nbconvert_exporter": "python",
   "pygments_lexer": "ipython3",
   "version": "3.8.3"
  }
 },
 "nbformat": 4,
 "nbformat_minor": 4
}
